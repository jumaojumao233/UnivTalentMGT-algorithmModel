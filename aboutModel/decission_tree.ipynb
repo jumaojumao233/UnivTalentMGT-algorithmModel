{
 "cells": [
  {
   "cell_type": "code",
   "execution_count": 1,
   "metadata": {
    "collapsed": true,
    "ExecuteTime": {
     "end_time": "2025-06-21T13:08:26.872036900Z",
     "start_time": "2025-06-21T13:08:22.380223200Z"
    }
   },
   "outputs": [
    {
     "name": "stdout",
     "output_type": "stream",
     "text": [
      "    姓名    岗位                                     能力标签  历史绩效  \\\n",
      "0  员工1  教学岗位              教学设计, 团队协作, 数据分析, 领导力, 科研能力  4.87   \n",
      "1  员工2  科研岗位                   数据分析, 教学设计, 团队协作, 沟通能力  3.22   \n",
      "2  员工3  管理岗位                                     团队协作  1.35   \n",
      "3  员工4  科研岗位  科研能力, 数据分析, 沟通能力, 团队协作, 领导力, 教学设计, 项目管理  1.55   \n",
      "4  员工5  管理岗位        数据分析, 领导力, 团队协作, 科研能力, 沟通能力, 教学设计  4.46   \n",
      "\n",
      "                                      技能特长 培训记录        入职日期  \n",
      "0              教学设计, 团队协作, 数据分析, 领导力, 科研能力  课程B  2021-12-28  \n",
      "1                   数据分析, 教学设计, 团队协作, 沟通能力  课程D  2023-04-01  \n",
      "2                                     团队协作  课程D  2020-05-21  \n",
      "3  科研能力, 数据分析, 沟通能力, 团队协作, 领导力, 教学设计, 项目管理    无  2020-10-27  \n",
      "4        数据分析, 领导力, 团队协作, 科研能力, 沟通能力, 教学设计    无  2020-02-09  \n",
      "0     1\n",
      "1     1\n",
      "2     0\n",
      "3     0\n",
      "4     1\n",
      "     ..\n",
      "95    1\n",
      "96    1\n",
      "97    1\n",
      "98    1\n",
      "99    1\n",
      "Name: 是否适合岗位, Length: 100, dtype: int32\n",
      "XGBoost MAE: 0.75\n",
      "XGBoost MSE: 0.75\n",
      "XGBoost RMSE: 0.8660254037844386\n",
      "XGBoost R2: -2.124999999999999\n",
      "{'result':     岗位  能力标签  技能特长  培训记录  入职年份  入职月份  是否适合岗位\n",
      "83   2     8     8     3  2021    11     0.0\n",
      "53   2    16    16     1  2023     8     0.0\n",
      "70   2    74    74     1  2024    11     1.0\n",
      "45   1    85    85     4  2021     8     0.0\n",
      "44   2    82    82     4  2020    12     1.0\n",
      "39   1    77    77     0  2022     6     1.0\n",
      "22   1     9     9     2  2022    10     1.0\n",
      "80   2     0     0     1  2025     4     1.0\n",
      "10   2    19    19     4  2022    11     1.0\n",
      "0    0    17    17     2  2021    12     0.0\n",
      "18   2    75    75     4  2022    11     1.0\n",
      "30   0    63    63     1  2022     8     1.0\n",
      "73   0    62    62     0  2020     4     0.0\n",
      "33   0    52    52     3  2022     5     0.0\n",
      "90   0    69    69     4  2021     5     0.0\n",
      "4    2    38    38     0  2020     2     0.0\n",
      "76   0    71    71     0  2021     1     0.0\n",
      "77   1    78    78     3  2022     6     1.0\n",
      "12   2    52    52     4  2023     2     0.0\n",
      "31   0    86    86     0  2022     1     0.0, 'mae': 0.75, 'mse': 0.75, 'rmse': 0.8660254037844386, 'r2': -2.124999999999999, 'model': DecisionTreeRegressor(random_state=0)}\n",
      "    姓名    岗位                                     能力标签  历史绩效  \\\n",
      "0  员工1  教学岗位              教学设计, 团队协作, 数据分析, 领导力, 科研能力  4.87   \n",
      "1  员工2  科研岗位                   数据分析, 教学设计, 团队协作, 沟通能力  3.22   \n",
      "2  员工3  管理岗位                                     团队协作  1.35   \n",
      "3  员工4  科研岗位  科研能力, 数据分析, 沟通能力, 团队协作, 领导力, 教学设计, 项目管理  1.55   \n",
      "4  员工5  管理岗位        数据分析, 领导力, 团队协作, 科研能力, 沟通能力, 教学设计  4.46   \n",
      "\n",
      "                                      技能特长 培训记录        入职日期  \n",
      "0              教学设计, 团队协作, 数据分析, 领导力, 科研能力  课程B  2021-12-28  \n",
      "1                   数据分析, 教学设计, 团队协作, 沟通能力  课程D  2023-04-01  \n",
      "2                                     团队协作  课程D  2020-05-21  \n",
      "3  科研能力, 数据分析, 沟通能力, 团队协作, 领导力, 教学设计, 项目管理    无  2020-10-27  \n",
      "4        数据分析, 领导力, 团队协作, 科研能力, 沟通能力, 教学设计    无  2020-02-09  \n",
      "0     1\n",
      "1     1\n",
      "2     0\n",
      "3     0\n",
      "4     1\n",
      "     ..\n",
      "95    1\n",
      "96    1\n",
      "97    1\n",
      "98    1\n",
      "99    1\n",
      "Name: 是否适合岗位, Length: 100, dtype: int32\n",
      "XGBoost MAE: 0.75\n",
      "XGBoost MSE: 0.75\n",
      "XGBoost RMSE: 0.8660254037844386\n",
      "XGBoost R2: -2.124999999999999\n",
      "{'result':     岗位  能力标签  技能特长  培训记录  入职年份  入职月份  是否适合岗位\n",
      "83   2     8     8     3  2021    11     0.0\n",
      "53   2    16    16     1  2023     8     0.0\n",
      "70   2    74    74     1  2024    11     1.0\n",
      "45   1    85    85     4  2021     8     0.0\n",
      "44   2    82    82     4  2020    12     1.0\n",
      "39   1    77    77     0  2022     6     1.0\n",
      "22   1     9     9     2  2022    10     1.0\n",
      "80   2     0     0     1  2025     4     1.0\n",
      "10   2    19    19     4  2022    11     1.0\n",
      "0    0    17    17     2  2021    12     0.0\n",
      "18   2    75    75     4  2022    11     1.0\n",
      "30   0    63    63     1  2022     8     1.0\n",
      "73   0    62    62     0  2020     4     0.0\n",
      "33   0    52    52     3  2022     5     0.0\n",
      "90   0    69    69     4  2021     5     0.0\n",
      "4    2    38    38     0  2020     2     0.0\n",
      "76   0    71    71     0  2021     1     0.0\n",
      "77   1    78    78     3  2022     6     1.0\n",
      "12   2    52    52     4  2023     2     0.0\n",
      "31   0    86    86     0  2022     1     0.0, 'mae': 0.75, 'mse': 0.75, 'rmse': 0.8660254037844386, 'r2': -2.124999999999999, 'model': DecisionTreeRegressor(random_state=0)}\n"
     ]
    }
   ],
   "source": [
    "import pandas as pd\n",
    "import numpy as np\n",
    "import decisionTree as xgb\n",
    "from sklearn.model_selection import train_test_split\n",
    "from sklearn.metrics import accuracy_score, classification_report\n",
    "from sklearn.preprocessing import LabelEncoder\n",
    "\n",
    "# 加载数据\n",
    "data = pd.read_csv(\"../aboutDataset/人员数据集.csv\")\n",
    "\"\"\"\n",
    "姓名,岗位,能力标签,历史绩效,技能特长,培训记录,入职日期\n",
    "\"\"\"\n",
    "\n",
    "# 查看数据结构\n",
    "print(data.head())\n",
    "\n",
    "# 将分类变量转换为数值型\n",
    "label_encoders = {}\n",
    "for column in ['岗位', '能力标签', '技能特长', '培训记录']:\n",
    "    le = LabelEncoder()\n",
    "    data[column] = le.fit_transform(data[column])\n",
    "    label_encoders[column] = le\n",
    "\n",
    "# 提取入职日期中的年份和月份\n",
    "data['入职年份'] = pd.to_datetime(data['入职日期']).dt.year\n",
    "data['入职月份'] = pd.to_datetime(data['入职日期']).dt.month\n",
    "\n",
    "# 假设目标变量是“是否适合岗位”，这里用历史绩效评分的中位数作为阈值来定义是否适合岗位\n",
    "median_performance = data['历史绩效'].median()\n",
    "data['是否适合岗位'] = (data['历史绩效'] >= median_performance).astype(int)\n",
    "\n",
    "# 删除不需要的列\n",
    "data = data.drop(columns=['姓名', '入职日期', '历史绩效'])\n",
    "\n",
    "from models import getResultOfDecisionTree\n",
    "print(data.iloc[:,-1])\n",
    "resultModel=getResultOfDecisionTree(data=data,plot=False)\n",
    "print(resultModel)"
   ]
  },
  {
   "cell_type": "code",
   "execution_count": 4,
   "outputs": [
    {
     "name": "stdout",
     "output_type": "stream",
     "text": [
      "dict_values([2, 0, 0, 4, 2020, 5])\n"
     ]
    }
   ],
   "source": [
    "temp=dict(data.iloc[2,:-1])\n",
    "print((temp.values()))"
   ],
   "metadata": {
    "collapsed": false,
    "ExecuteTime": {
     "end_time": "2025-06-21T13:08:26.930091600Z",
     "start_time": "2025-06-21T13:08:26.913139400Z"
    }
   }
  },
  {
   "cell_type": "code",
   "execution_count": 5,
   "outputs": [
    {
     "name": "stdout",
     "output_type": "stream",
     "text": [
      "0\n"
     ]
    },
    {
     "name": "stderr",
     "output_type": "stream",
     "text": [
      "X does not have valid feature names, but DecisionTreeRegressor was fitted with feature names\n"
     ]
    }
   ],
   "source": [
    "print(int(model.predict([list(temp.values())])))"
   ],
   "metadata": {
    "collapsed": false,
    "ExecuteTime": {
     "end_time": "2025-06-21T13:08:26.938392100Z",
     "start_time": "2025-06-21T13:08:26.930091600Z"
    }
   }
  },
  {
   "cell_type": "code",
   "execution_count": 14,
   "outputs": [
    {
     "name": "stdout",
     "output_type": "stream",
     "text": [
      "{'岗位': '教学岗位', '能力标签': '教学设计, 团队协作, 数据分析, 领导力, 科研能力', '技能特长': '教学设计, 团队协作, 数据分析, 领导力, 科研能力', '培训记录': '课程B', '入职日期': '2021-12-28'}\n"
     ]
    }
   ],
   "source": [
    "data = pd.read_csv(\"../aboutDataset/人员数据集.csv\")\n",
    "# 提取入职日期中的年份和月份\n",
    "data['入职年份'] = pd.to_datetime(data['入职日期']).dt.year\n",
    "data['入职月份'] = pd.to_datetime(data['入职日期']).dt.month\n",
    "\n",
    "# 假设目标变量是“是否适合岗位”，这里用历史绩效评分的中位数作为阈值来定义是否适合岗位\n",
    "median_performance = data['历史绩效'].median()\n",
    "data['是否适合岗位'] = (data['历史绩效'] >= median_performance).astype(int)\n",
    "\n",
    "# 删除不需要的列\n",
    "data = data.drop(columns=['姓名', '历史绩效'])\n",
    "print(dict(data.iloc[0,:-1]))"
   ],
   "metadata": {
    "collapsed": false,
    "ExecuteTime": {
     "end_time": "2025-06-21T14:41:06.150553200Z",
     "start_time": "2025-06-21T14:41:06.129830Z"
    }
   }
  },
  {
   "cell_type": "code",
   "execution_count": 42,
   "outputs": [
    {
     "name": "stdout",
     "output_type": "stream",
     "text": [
      "否\n"
     ]
    },
    {
     "name": "stderr",
     "output_type": "stream",
     "text": [
      "X does not have valid feature names, but DecisionTreeRegressor was fitted with feature names\n"
     ]
    }
   ],
   "source": [
    "import joblib\n",
    "\"\"\"\n",
    "形如{'岗位': 0, '能力标签': 17, '技能特长': 17, '培训记录': 2, '入职年份': 1, '入职月份': 11}\n",
    "to\n",
    ":return:\n",
    "\"\"\"\n",
    "# 直接使用预训练模型进行预测\n",
    "# try:\n",
    "input_json = {'岗位': '教学岗位', '能力标签': '教学设计, 团队协作, 数据分析, 领导力, 科研能力', '技能特长': '教学设计, 团队协作, 数据分析, 领导力, 科研能力', '培训记录': '课程B', '入职年份': 2021, '入职月份': 12}\n",
    "modelName='decission_tree'\n",
    "label_encoders=joblib.load(r'D:\\西电第六学期\\小学期\\UnivTalentMGT-algorithmModel\\aboutModel\\saved_stander\\decission_tree.pkl')\n",
    "for key in input_json:\n",
    "    input_json[key]=label_encoders[key].transform([input_json[key]])\n",
    "model = joblib.load(r'D:\\西电第六学期\\小学期\\UnivTalentMGT-algorithmModel\\aboutModel\\saved_model\\decission_tree.pkl')\n",
    "preds=\"否\"\n",
    "data_input={}\n",
    "for i in input_json:\n",
    "    data_input[i]=input_json[i][0]\n",
    "if int(model.predict([list(data_input.values())])):\n",
    "    preds=\"是\"\n",
    "print(preds)"
   ],
   "metadata": {
    "collapsed": false,
    "ExecuteTime": {
     "end_time": "2025-06-21T15:05:27.487208300Z",
     "start_time": "2025-06-21T15:05:27.477210700Z"
    }
   }
  },
  {
   "cell_type": "code",
   "execution_count": 43,
   "outputs": [
    {
     "name": "stdout",
     "output_type": "stream",
     "text": [
      "{\"岗位\": \"教学岗位\", \"能力标签\": \"教学设计, 团队协作, 数据分析, 领导力, 科研能力\",\n",
      "                  \"技能特长\": \"教学设计, 团队协作, 数据分析, 领导力, 科研能力\", \"培训记录\": \"课程B\", \"入职年份\": 2021,\n",
      "                  \"入职月份\": 12}\n"
     ]
    }
   ],
   "source": [
    "content=\"\"\"{'岗位': '教学岗位', '能力标签': '教学设计, 团队协作, 数据分析, 领导力, 科研能力',\n",
    "                  '技能特长': '教学设计, 团队协作, 数据分析, 领导力, 科研能力', '培训记录': '课程B', '入职年份': 2021,\n",
    "                  '入职月份': 12}\"\"\"\n",
    "print(content.replace(\"'\",'\"'))"
   ],
   "metadata": {
    "collapsed": false,
    "ExecuteTime": {
     "end_time": "2025-06-21T15:08:39.257017800Z",
     "start_time": "2025-06-21T15:08:39.252016600Z"
    }
   }
  },
  {
   "cell_type": "code",
   "execution_count": 6,
   "outputs": [
    {
     "data": {
      "text/plain": "'\\n决策树进行预测跑通了\\n预测的是{是否适合岗位}\\n'"
     },
     "execution_count": 6,
     "metadata": {},
     "output_type": "execute_result"
    }
   ],
   "source": [
    "\n",
    "from sklearn.ensemble import RandomForestClassifier\n",
    "from sklearn import datasets\n",
    "import joblib\n",
    "#save model\n",
    "model=resultModel['model']\n",
    "joblib.dump(model, 'saved_model/decission_tree.pkl')\n",
    "#load model\n",
    "# rfc2 = joblib.load('saved_model/decission_tree.pkl')\n",
    "# print(rfc2.predict(X[0:1,:]))\n",
    "\"\"\"\n",
    "决策树进行预测跑通了\n",
    "预测的是{是否适合岗位}\n",
    "\"\"\""
   ],
   "metadata": {
    "collapsed": false,
    "ExecuteTime": {
     "end_time": "2025-06-21T13:08:27.002173500Z",
     "start_time": "2025-06-21T13:08:26.938392100Z"
    }
   }
  }
 ],
 "metadata": {
  "kernelspec": {
   "display_name": "Python 3",
   "language": "python",
   "name": "python3"
  },
  "language_info": {
   "codemirror_mode": {
    "name": "ipython",
    "version": 2
   },
   "file_extension": ".py",
   "mimetype": "text/x-python",
   "name": "python",
   "nbconvert_exporter": "python",
   "pygments_lexer": "ipython2",
   "version": "2.7.6"
  }
 },
 "nbformat": 4,
 "nbformat_minor": 0
}
